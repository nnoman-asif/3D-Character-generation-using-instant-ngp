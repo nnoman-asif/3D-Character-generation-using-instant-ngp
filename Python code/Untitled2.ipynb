{
 "cells": [
  {
   "cell_type": "code",
   "execution_count": 1,
   "id": "06195b75",
   "metadata": {},
   "outputs": [],
   "source": [
    "from rembg import remove\n",
    "import uuid\n",
    "unique_filename = str(uuid.uuid4())\n",
    "input_path = 'a.jpeg'\n",
    "output_path = 'C:\\\\Users\\\\hp\\\\Music\\\\Image-Background-Remover-Python-main\\\\images\\\\'+unique_filename+'.png'\n",
    "\n",
    "with open(input_path, 'rb') as i:\n",
    "    with open(output_path, 'wb') as o:\n",
    "        input = i.read()\n",
    "        output = remove(input)\n",
    "        o.write(output)"
   ]
  },
  {
   "cell_type": "code",
   "execution_count": 5,
   "id": "49b4be23",
   "metadata": {},
   "outputs": [
    {
     "ename": "SyntaxError",
     "evalue": "invalid syntax (2932926745.py, line 1)",
     "output_type": "error",
     "traceback": [
      "\u001b[1;36m  Input \u001b[1;32mIn [5]\u001b[1;36m\u001b[0m\n\u001b[1;33m    rembg b \"C:\\\\instantngp\\\\instant-ngp\\\\newvideo\\\\images\" output\u001b[0m\n\u001b[1;37m          ^\u001b[0m\n\u001b[1;31mSyntaxError\u001b[0m\u001b[1;31m:\u001b[0m invalid syntax\n"
     ]
    }
   ],
   "source": [
    "rembg b \"C:\\\\instantngp\\\\instant-ngp\\\\newvideo\\\\images\" output"
   ]
  },
  {
   "cell_type": "code",
   "execution_count": 4,
   "id": "216355c8",
   "metadata": {},
   "outputs": [],
   "source": [
    "from rembg import remove"
   ]
  },
  {
   "cell_type": "code",
   "execution_count": 5,
   "id": "be249447",
   "metadata": {},
   "outputs": [],
   "source": [
    "import os\n",
    "d='C:\\\\instantngp\\\\instant-ngp\\\\data\\\\Afaq\\\\image\\\\'\n",
    "entries = os.listdir(d)\n"
   ]
  },
  {
   "cell_type": "code",
   "execution_count": 6,
   "id": "ac25faea",
   "metadata": {},
   "outputs": [],
   "source": [
    "#input_path = 'a.jpeg'\n",
    "#output_path = 'C:\\\\Users\\\\hp\\\\Music\\\\Image-Background-Remover-Python-main\\\\images\\\\'+'.png'\n",
    "for files in entries:\n",
    "    with open(d+files, 'rb') as i:\n",
    "        with open('C:\\\\instantngp\\\\instant-ngp\\\\data\\\\Afaq\\\\images\\\\'+files, 'wb') as o:\n",
    "            input = i.read()\n",
    "            output = remove(input)\n",
    "            o.write(output)"
   ]
  }
 ],
 "metadata": {
  "kernelspec": {
   "display_name": "Python 3 (ipykernel)",
   "language": "python",
   "name": "python3"
  },
  "language_info": {
   "codemirror_mode": {
    "name": "ipython",
    "version": 3
   },
   "file_extension": ".py",
   "mimetype": "text/x-python",
   "name": "python",
   "nbconvert_exporter": "python",
   "pygments_lexer": "ipython3",
   "version": "3.9.13"
  }
 },
 "nbformat": 4,
 "nbformat_minor": 5
}
