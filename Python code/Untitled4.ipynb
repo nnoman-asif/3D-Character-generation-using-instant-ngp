{
 "cells": [
  {
   "cell_type": "code",
   "execution_count": 17,
   "id": "9b8a3b5f",
   "metadata": {},
   "outputs": [],
   "source": [
    "import pymeshlab\n",
    "ms = pymeshlab.MeshSet()"
   ]
  },
  {
   "cell_type": "code",
   "execution_count": 18,
   "id": "e0c18e87",
   "metadata": {},
   "outputs": [],
   "source": [
    "ms.load_new_mesh('transforms_base.obj')\n",
    "#ms.generate_convex_hull()\n",
    "#ms.save_current_mesh('base1.ply')"
   ]
  },
  {
   "cell_type": "code",
   "execution_count": 19,
   "id": "6aeccb2a",
   "metadata": {},
   "outputs": [],
   "source": [
    "#pymeshlab.print_filter_list()\n",
    "#"
   ]
  },
  {
   "cell_type": "code",
   "execution_count": 20,
   "id": "9fb95a0f",
   "metadata": {},
   "outputs": [],
   "source": [
    "# pymeshlab.print_filter_parameter_list('generate_surface_reconstruction_screened_poisson')"
   ]
  },
  {
   "cell_type": "code",
   "execution_count": 21,
   "id": "100688b2",
   "metadata": {},
   "outputs": [],
   "source": [
    "# ms.create_noisy_isosurface(resolution=128)"
   ]
  },
  {
   "cell_type": "code",
   "execution_count": 22,
   "id": "123593b7",
   "metadata": {},
   "outputs": [],
   "source": [
    "# pymeshlab.search('poisson')"
   ]
  },
  {
   "cell_type": "code",
   "execution_count": 23,
   "id": "c4c59853",
   "metadata": {},
   "outputs": [],
   "source": [
    "# import pymeshlab\n",
    "# ms = pymeshlab.MeshSet()\n",
    "# ms.load_new_mesh('base1.obj')\n",
    "# ms.apply_coord_laplacian_smoothing(stepsmoothnum=10)\n",
    "# #apply some other filters....\n",
    "\n",
    "# #.. and then save the script\n",
    "# ms.save_filter_script('my_script.mlx')"
   ]
  },
  {
   "cell_type": "code",
   "execution_count": 24,
   "id": "decb9aca",
   "metadata": {},
   "outputs": [],
   "source": [
    "# ms.save_current_mesh('base1.ply')"
   ]
  },
  {
   "cell_type": "code",
   "execution_count": 25,
   "id": "fec9eeaf",
   "metadata": {},
   "outputs": [],
   "source": [
    "# compute_normals_for_point_sets"
   ]
  },
  {
   "cell_type": "code",
   "execution_count": 26,
   "id": "787b6b32",
   "metadata": {},
   "outputs": [],
   "source": [
    "#print(pymeshlab.print_filter_list(compute_normals_for_point_sets))"
   ]
  },
  {
   "cell_type": "code",
   "execution_count": 27,
   "id": "17c13f47",
   "metadata": {},
   "outputs": [
    {
     "data": {
      "text/plain": [
       "{}"
      ]
     },
     "execution_count": 27,
     "metadata": {},
     "output_type": "execute_result"
    }
   ],
   "source": [
    "ms.apply_filter('compute_normal_for_point_clouds')"
   ]
  },
  {
   "cell_type": "code",
   "execution_count": 28,
   "id": "01546266",
   "metadata": {},
   "outputs": [
    {
     "data": {
      "text/plain": [
       "{}"
      ]
     },
     "execution_count": 28,
     "metadata": {},
     "output_type": "execute_result"
    }
   ],
   "source": [
    "ms.apply_filter('generate_surface_reconstruction_screened_poisson')\n",
    "\n"
   ]
  },
  {
   "cell_type": "code",
   "execution_count": 29,
   "id": "c0629c97",
   "metadata": {},
   "outputs": [
    {
     "name": "stderr",
     "output_type": "stream",
     "text": [
      "C:\\Users\\hp\\AppData\\Local\\Temp\\ipykernel_2128\\3569740643.py:1: UserWarning: Deprecated Filter Warning: You should use 'compute_texcoord_parametrization_triangle_trivial_per_wedge' instead of 'parametrization_trivial_per_triangle'. See https://pymeshlab.readthedocs.io/en/latest/index.html#filters-renaming\n",
      "  ms.apply_filter('parametrization_trivial_per_triangle',textdim=8192,border=0,method=0)\n"
     ]
    },
    {
     "data": {
      "text/plain": [
       "{}"
      ]
     },
     "execution_count": 29,
     "metadata": {},
     "output_type": "execute_result"
    }
   ],
   "source": [
    "ms.apply_filter('parametrization_trivial_per_triangle',textdim=8192,border=0,method=0)"
   ]
  },
  {
   "cell_type": "code",
   "execution_count": 14,
   "id": "9dc3541e",
   "metadata": {},
   "outputs": [],
   "source": [
    "#ms.save_current_mesh('basef.ply')"
   ]
  },
  {
   "cell_type": "code",
   "execution_count": null,
   "id": "f1fa6529",
   "metadata": {},
   "outputs": [
    {
     "name": "stderr",
     "output_type": "stream",
     "text": [
      "C:\\Users\\hp\\AppData\\Local\\Temp\\ipykernel_2128\\376193900.py:1: UserWarning: Deprecated Filter Warning: You should use 'transfer_attributes_to_texture_per_vertex' instead of 'transfer_vertex_attributes_to_texture_1_or_2_meshes'. See https://pymeshlab.readthedocs.io/en/latest/index.html#filters-renaming\n",
      "  ms.apply_filter('transfer_vertex_attributes_to_texture_1_or_2_meshes',sourcemesh=0,targetmesh=1,attributeenum=0,textname='texture123.png',textw=8192,texth=8192)\n"
     ]
    }
   ],
   "source": [
    "ms.apply_filter('transfer_vertex_attributes_to_texture_1_or_2_meshes',sourcemesh=0,targetmesh=1,attributeenum=0,textname='texture123.png',textw=8192,texth=8192)"
   ]
  },
  {
   "cell_type": "code",
   "execution_count": null,
   "id": "26d9f343",
   "metadata": {},
   "outputs": [],
   "source": [
    "ms.save_current_mesh('bas_tex.obj')"
   ]
  },
  {
   "cell_type": "code",
   "execution_count": null,
   "id": "ab27b54f",
   "metadata": {},
   "outputs": [],
   "source": []
  }
 ],
 "metadata": {
  "kernelspec": {
   "display_name": "Python 3 (ipykernel)",
   "language": "python",
   "name": "python3"
  },
  "language_info": {
   "codemirror_mode": {
    "name": "ipython",
    "version": 3
   },
   "file_extension": ".py",
   "mimetype": "text/x-python",
   "name": "python",
   "nbconvert_exporter": "python",
   "pygments_lexer": "ipython3",
   "version": "3.9.13"
  }
 },
 "nbformat": 4,
 "nbformat_minor": 5
}
